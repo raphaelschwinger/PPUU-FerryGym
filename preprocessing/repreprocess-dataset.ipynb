{
 "cells": [
  {
   "cell_type": "code",
   "execution_count": 1,
   "metadata": {},
   "outputs": [],
   "source": [
    "# load DF\n",
    "import pandas as pd\n",
    "df = pd.read_pickle('/workspace/data/rev-moenk/training/df_2022-04-10 13:00:01.pkl')"
   ]
  },
  {
   "cell_type": "code",
   "execution_count": 49,
   "metadata": {},
   "outputs": [],
   "source": [
    "# add v_x and v_y columns\n",
    "import datetime\n",
    "timedelta = datetime.timedelta(seconds=1)\n",
    "\n",
    "\n",
    "\n",
    "df['v_x'] = -1* df.groupby(['mmsi'])['x'].diff(-1).fillna(-1* df['v_x'].shift(1)) / timedelta.total_seconds()\n",
    "df['v_y'] = -1* df.groupby(['mmsi'])['y'].diff(-1).fillna(-1* df['v_y'].shift(1)) / timedelta.total_seconds()"
   ]
  },
  {
   "cell_type": "code",
   "execution_count": 55,
   "metadata": {},
   "outputs": [],
   "source": [
    "# calculate delta_v = norm(v_x, v_y).shift(1) - norm(v_x, v_y) \n",
    "import numpy as np\n",
    "df['delta_v'] = np.sqrt(df['v_x']**2 + df['v_y']**2).shift(-1, fill_value=0) - np.sqrt(df['v_x']**2 + df['v_y']**2)\n",
    "# its okay to leave the last row in each group as it will not be used for training as we dont have target values anyway\n",
    "\n"
   ]
  },
  {
   "cell_type": "code",
   "execution_count": null,
   "metadata": {},
   "outputs": [],
   "source": [
    "\n",
    "\n",
    "def perpendicular_vector(v):\n",
    "    if v[1] == 0:\n",
    "        if v[0] == 0:\n",
    "            raise ValueError('zero vector')\n",
    "        else:\n",
    "            return np.cross(v, [0, 1])\n",
    "    return np.cross(v, [1, 0])\n",
    "\n",
    "# calculate delta_angle = (∆pt+1 − ∆pt)T (∆pt)⊥/‖∆pt‖2\n",
    "\n",
    "df['delta_angle'] = np.transpose([df['v_x'].shift(1) - df['v_x'], df['v_y'].shift(1) - df['v_y']]) * np.cross([df['v_x'],df['v_y']], [1,0]) / np.linalg.norm([df['v_x'],df['v_y']])\n"
   ]
  }
 ],
 "metadata": {
  "kernelspec": {
   "display_name": "Python 3.9.12 ('workspace-dqq3IVyd')",
   "language": "python",
   "name": "python3"
  },
  "language_info": {
   "codemirror_mode": {
    "name": "ipython",
    "version": 3
   },
   "file_extension": ".py",
   "mimetype": "text/x-python",
   "name": "python",
   "nbconvert_exporter": "python",
   "pygments_lexer": "ipython3",
   "version": "3.9.12"
  },
  "orig_nbformat": 4,
  "vscode": {
   "interpreter": {
    "hash": "98bff4cb4aa4b884ece67f7e2958abe4a1b89abafae564f12c809048d10f21d8"
   }
  }
 },
 "nbformat": 4,
 "nbformat_minor": 2
}
