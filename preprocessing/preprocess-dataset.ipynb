{
 "cells": [
  {
   "cell_type": "markdown",
   "metadata": {},
   "source": [
    "# Preproces AIS data\n",
    "\n",
    "Load data for a specific region and time period and extract trajectories of ships."
   ]
  },
  {
   "cell_type": "code",
   "execution_count": 1,
   "metadata": {},
   "outputs": [
    {
     "name": "stdout",
     "output_type": "stream",
     "text": [
      "['/', '/workspace', '/usr/local/lib/python39.zip', '/usr/local/lib/python3.9', '/usr/local/lib/python3.9/lib-dynload', '', '/root/.local/share/virtualenvs/workspace-dqq3IVyd/lib/python3.9/site-packages', '/workspace/FerryGymEnv']\n",
      "path ferrygym ['/', '/workspace', '/usr/local/lib/python39.zip', '/usr/local/lib/python3.9', '/usr/local/lib/python3.9/lib-dynload', '', '/root/.local/share/virtualenvs/workspace-dqq3IVyd/lib/python3.9/site-packages', '/workspace/FerryGymEnv']\n"
     ]
    }
   ],
   "source": [
    "# imports\n",
    "from gql import gql, Client\n",
    "from gql.transport.aiohttp import AIOHTTPTransport\n",
    "import pandas as pd\n",
    "import gym\n",
    "import datetime\n",
    "\n",
    "import os, sys\n",
    "sys.path.append(os.path.abspath('/workspace/FerryGymEnv'))\n",
    "print(sys.path)\n",
    "\n",
    "\n",
    "from FerryGymEnv.FerryGymEnv import FerryGymEnv\n",
    "from MapRevMoenk import *"
   ]
  },
  {
   "cell_type": "markdown",
   "metadata": {},
   "source": [
    "## Load data\n",
    "\n",
    "Our AIS data is stored at a Postgres server at our institute's server.\n",
    "To access the data a GraphQL API is provided through [Hasura](https://hasura.io/).\n"
   ]
  },
  {
   "cell_type": "code",
   "execution_count": 2,
   "metadata": {},
   "outputs": [
    {
     "name": "stdout",
     "output_type": "stream",
     "text": [
      "{'lteTimeString': '2022-04-07 12:00:00+00', 'gteTimeString': '2022-04-01 12:00:00+00', 'bound_right': 10.190433, 'bound_left': 10.141767, 'bound_top': 54.352733, 'bound_bottom': 54.325583, 'minSpeed': 0.3}\n",
      "start data:  2022-04-01 12:00:00+00\n",
      "end date:  2022-04-07 11:59:56+00\n",
      "min speed:  0.4\n",
      "max speed:  102.3\n"
     ]
    }
   ],
   "source": [
    "# connect to api\n",
    "# Select your transport with a defined url endpoint\n",
    "transport = AIOHTTPTransport(\n",
    "    url=\"http://172.23.0.5:8080/v1/graphql\",\n",
    "    headers={'content-type': 'application/json',\n",
    "        'x-hasura-admin-secret': 'aaasdsdndsfvksdsd'})\n",
    "\n",
    "# Create a GraphQL client using the defined transport\n",
    "client = Client(transport=transport, fetch_schema_from_transport=True)\n",
    "\n",
    "# Provide a GraphQL query\n",
    "query = gql(\n",
    "    \"\"\"\n",
    "    query MyQuery(\n",
    "  $lteTimeString: String!,\n",
    "  $gteTimeString: String!,\n",
    "  $bound_bottom: float8!,\n",
    "  $bound_top: float8!,\n",
    "  $bound_left: float8!,\n",
    "  $bound_right: float8!,\n",
    "  $minSpeed: float8!) {\n",
    "      ais(limit: 10000000, where: {\n",
    "        datetime: {_lt: $lteTimeString, _gte: $gteTimeString},\n",
    "        lon: {_is_null: false, _gte: $bound_left, _lte: $bound_right},\n",
    "        lat: {_is_null: false, _gte: $bound_bottom, _lte: $bound_top},\n",
    "        speed: {_is_null: false, _gt: $minSpeed},\n",
    "        }) {\n",
    "            mmsi\n",
    "            datetime\n",
    "            lat\n",
    "            lon\n",
    "            speed\n",
    "            heading\n",
    "            }\n",
    "    }\n",
    "\"\"\"\n",
    ")\n",
    "\n",
    "params = {\"lteTimeString\": \"2022-04-07 12:00:00+00\", \"gteTimeString\": \"2022-04-01 12:00:00+00\", \"bound_right\": BOUND_RIGHT, \"bound_left\": BOUND_LEFT, \"bound_top\": BOUND_TOP, \"bound_bottom\": BOUND_BOTTOM, \"minSpeed\": 0.3 }\n",
    "print(params)\n",
    "\n",
    "# Execute the query on the transport\n",
    "result = await client.execute_async(query, variable_values=params)\n",
    "df = pd.DataFrame(result['ais'])\n",
    "# get min datetime in df\n",
    "print('start data: ', df['datetime'].min())\n",
    "# get max datetime in df\n",
    "print('end date: ',df['datetime'].max())\n",
    "# print min speed\n",
    "print('min speed: ',df['speed'].min())\n",
    "# print max speed\n",
    "print('max speed: ',df['speed'].max())"
   ]
  },
  {
   "cell_type": "code",
   "execution_count": 37,
   "metadata": {},
   "outputs": [
    {
     "name": "stderr",
     "output_type": "stream",
     "text": [
      "/root/.local/share/virtualenvs/workspace-dqq3IVyd/lib/python3.9/site-packages/gym/spaces/box.py:128: UserWarning: \u001b[33mWARN: Box bound precision lowered by casting to float32\u001b[0m\n",
      "  logger.warn(f\"Box bound precision lowered by casting to {self.dtype}\")\n"
     ]
    }
   ],
   "source": [
    "# Convert in env coordinates\n",
    "\n",
    "kwargs = dict(\n",
    "    generate_training_data=True,\n",
    "    data_directory='/workspace/data/rev-moenk/training/',\n",
    "    df_filename='2022-04-10-13->14.pkl',\n",
    "    startingTime=datetime.datetime(2022, 4, 10, 13, 0, 1),\n",
    ")\n",
    "\n",
    "env = FerryGymEnv(**kwargs)\n",
    "# iterate though rows\n",
    "for index, row in df.iterrows():\n",
    "    # get x,y from env.convertLatonInEnvCoordinates\n",
    "    x, y = env.convertLatLotInEnvCoordinates(row['lat'], row['lon'])\n",
    "    # set x,y in df\n",
    "    df.at[index, 'x'] = x\n",
    "    df.at[index, 'y'] = y"
   ]
  },
  {
   "cell_type": "code",
   "execution_count": 38,
   "metadata": {},
   "outputs": [],
   "source": [
    "# interpolate_trajectories to generate position data for every second\n",
    "\n",
    "df['datetime'] = pd.to_datetime(df['datetime'])\n",
    "df.index = df['datetime']\n",
    "df_grouped = df.groupby(['mmsi'])\n",
    "df_resampled = df_grouped.resample('1S', on='datetime').mean()\n",
    "df_interpol = df_resampled.interpolate()"
   ]
  },
  {
   "cell_type": "code",
   "execution_count": 39,
   "metadata": {},
   "outputs": [],
   "source": [
    "# add index column and reset index\n",
    "df =  df_interpol.reset_index(level=['datetime'])\n",
    "# add new index column numbering the rows\n",
    "df['index'] = range(0, len(df))\n",
    "df.set_index('index', inplace=True)"
   ]
  },
  {
   "cell_type": "markdown",
   "metadata": {},
   "source": [
    "### Calculate speed, acceleration, direction and direction_change"
   ]
  },
  {
   "cell_type": "code",
   "execution_count": 41,
   "metadata": {},
   "outputs": [
    {
     "name": "stdout",
     "output_type": "stream",
     "text": [
      "min speed_calculated:  0.0\n",
      "max speed_calculated:  11.90321183259538\n",
      "count speed_calculated == 0:  1188\n"
     ]
    }
   ],
   "source": [
    "# calculate current speed and save in new column\n",
    "timedelta = datetime.timedelta(seconds=1)\n",
    "\n",
    "df['dist_x'] = df['x'].diff().fillna(0.)\n",
    "df['dist_y'] = df['y'].diff().fillna(0.)\n",
    "df['dist'] = (df['dist_x']**2 + df['dist_y']**2)**0.5\n",
    "# add column for speed in m/s (speed column is in knots)\n",
    "speed_calculated = df['dist'] / timedelta.total_seconds()\n",
    "df['speed_calculated'] = speed_calculated \n",
    "# print min speed_calculated\n",
    "print('min speed_calculated: ',df['speed_calculated'].min())\n",
    "# print max speed_calculated\n",
    "print('max speed_calculated: ',df['speed_calculated'].max())\n",
    "# count speed_calculated == 0\n",
    "print('count speed_calculated == 0: ',df['speed_calculated'].eq(0).sum())\n",
    "\n"
   ]
  },
  {
   "cell_type": "code",
   "execution_count": null,
   "metadata": {},
   "outputs": [],
   "source": [
    "def angle_between(p1, p2):\n",
    "    ang1 = np.arctan2(*p1[::-1])\n",
    "    ang2 = np.arctan2(*p2[::-1])\n",
    "    return np.rad2deg((ang1 - ang2) % (2 * np.pi))\n",
    "\n",
    "df['dist_x']            = df['x'].diff().fillna(0.)\n",
    "df['dist_y']            = df['y'].diff().fillna(0.)\n",
    "df['dist']              = (df['dist_x']**2 + df['dist_y']**2)**0.5\n",
    "df['speed_calculated']  = df['dist'] / timedelta.total_seconds()\n",
    "df['direction']         = angle_between([0, 1], [df['dist_x'], -1 * df['dist_y']])"
   ]
  },
  {
   "cell_type": "code",
   "execution_count": 30,
   "metadata": {},
   "outputs": [],
   "source": [
    " # calculate acceleration and save in new column\n",
    "acceleration = df['speed_calculated'].diff().fillna(0.)\n",
    "df['acceleration'] = acceleration / timedelta.total_seconds()\n",
    "# move one row up to match state\n",
    "df['acceleration'] = df['acceleration'].shift(-1)"
   ]
  },
  {
   "cell_type": "code",
   "execution_count": 31,
   "metadata": {},
   "outputs": [],
   "source": [
    "import numpy as np\n",
    "def angle_between(p1, p2):\n",
    "    ang1 = np.arctan2(*p1[::-1])\n",
    "    ang2 = np.arctan2(*p2[::-1])\n",
    "    return np.rad2deg((ang1 - ang2) % (2 * np.pi))\n",
    "\n",
    "df['direction'] = angle_between([0, 1], [df['dist_x'], -1 * df['dist_y']])"
   ]
  },
  {
   "cell_type": "code",
   "execution_count": 32,
   "metadata": {},
   "outputs": [],
   "source": [
    "# add direction_change column\n",
    "df['direction_change'] = df['direction'].diff().fillna(0)\n",
    "# move one row up to match state\n",
    "df['direction_change'] = df['direction_change'].shift(-1)"
   ]
  },
  {
   "cell_type": "code",
   "execution_count": null,
   "metadata": {},
   "outputs": [],
   "source": [
    "# clean up first and last row in group\n",
    "mask_last_row_of_ship = df.mmsi != df.mmsi.shift(-1)\n",
    "# mask_time_gap = df.datetime != df.datetime.shift(1) - timedelta\n",
    "df['acceleration'][mask_last_row_of_ship] = 0\n",
    "df['direction_change'][mask_last_row_of_ship] = 0\n",
    "mask_first_row_of_ship = df.mmsi != df.mmsi.shift(1)\n",
    "df['acceleration'][mask_first_row_of_ship] = 0\n",
    "df['direction_change'][mask_first_row_of_ship] = 0\n",
    "df['speed_calculated'][mask_first_row_of_ship] = df['speed_calculated'].shift(1)\n",
    "df['direction'][mask_first_row_of_ship] = df['direction'].shift(1)"
   ]
  },
  {
   "cell_type": "code",
   "execution_count": null,
   "metadata": {},
   "outputs": [],
   "source": [
    "# round actions to 2 decimals\n",
    "df['acceleration'] = df['acceleration'].round(2)\n",
    "df['direction_change'] = df['direction_change'].round(2)"
   ]
  },
  {
   "cell_type": "code",
   "execution_count": null,
   "metadata": {},
   "outputs": [],
   "source": [
    "# replace nan with 0\n",
    "df['acceleration'] = df['acceleration'].fillna(0)\n",
    "df['direction_change'] = df['direction_change'].fillna(0)\n",
    "df['speed_calculated'] = df['speed_calculated'].fillna(0)\n",
    "df['direction'] = df['direction'].fillna(0)"
   ]
  },
  {
   "cell_type": "code",
   "execution_count": null,
   "metadata": {},
   "outputs": [],
   "source": [
    "def move_around_the_clock(direction_change):\n",
    "    if abs(direction_change) > 180:\n",
    "        if direction_change > 0:\n",
    "            return direction_change - 360\n",
    "        else:\n",
    "            return direction_change + 360\n",
    "    else:\n",
    "        return direction_change\n",
    "\n",
    "# if direction change is abs > 180, set to 360 - direction_change\n",
    "df['direction_change'] = df['direction_change'].apply(move_around_the_clock)"
   ]
  },
  {
   "cell_type": "code",
   "execution_count": 4,
   "metadata": {},
   "outputs": [
    {
     "data": {
      "text/plain": [
       "0.9945218953682733"
      ]
     },
     "execution_count": 4,
     "metadata": {},
     "output_type": "execute_result"
    }
   ],
   "source": [
    "import numpy as np\n",
    "np.sin(np.deg2rad(0.5*192))"
   ]
  },
  {
   "cell_type": "code",
   "execution_count": 33,
   "metadata": {},
   "outputs": [],
   "source": [
    "# reduce to important columns\n",
    "df = df[['mmsi', 'datetime', 'x', 'y', 'speed_calculated', 'acceleration', 'direction', 'direction_change']]"
   ]
  },
  {
   "cell_type": "code",
   "execution_count": 42,
   "metadata": {},
   "outputs": [],
   "source": [
    "# save df to pickle file\n",
    "print('Saving df to pickle file')\n",
    "df.to_pickle('/workspace/data/rev-moenk3/training/2022-04-01-12->04-07-12.pkl')"
   ]
  },
  {
   "cell_type": "code",
   "execution_count": 4,
   "metadata": {},
   "outputs": [
    {
     "name": "stderr",
     "output_type": "stream",
     "text": [
      "/root/.local/share/virtualenvs/workspace-dqq3IVyd/lib/python3.9/site-packages/gym/envs/registration.py:542: UserWarning: \u001b[33mWARN: Overriding environment FerryGym-preprocess-v1\u001b[0m\n",
      "  logger.warn(f\"Overriding environment {spec.id}\")\n",
      "/root/.local/share/virtualenvs/workspace-dqq3IVyd/lib/python3.9/site-packages/gym/spaces/box.py:128: UserWarning: \u001b[33mWARN: Box bound precision lowered by casting to float32\u001b[0m\n",
      "  logger.warn(f\"Box bound precision lowered by casting to {self.dtype}\")\n",
      "/root/.local/share/virtualenvs/workspace-dqq3IVyd/lib/python3.9/site-packages/gym/core.py:317: DeprecationWarning: \u001b[33mWARN: Initializing wrapper in old step API which returns one bool instead of two. It is recommended to set `new_step_api=True` to use new step API. This will be the default behaviour in future.\u001b[0m\n",
      "  deprecation(\n",
      "/root/.local/share/virtualenvs/workspace-dqq3IVyd/lib/python3.9/site-packages/gym/wrappers/step_api_compatibility.py:39: DeprecationWarning: \u001b[33mWARN: Initializing environment in old step API which returns one bool instead of two. It is recommended to set `new_step_api=True` to use new step API. This will be the default behaviour in future.\u001b[0m\n",
      "  deprecation(\n",
      "/root/.local/share/virtualenvs/workspace-dqq3IVyd/lib/python3.9/site-packages/gym/utils/passive_env_checker.py:137: UserWarning: \u001b[33mWARN: The obs returned by the `reset()` method was expecting a numpy array, actual type: <class 'float'>\u001b[0m\n",
      "  logger.warn(\n",
      "/root/.local/share/virtualenvs/workspace-dqq3IVyd/lib/python3.9/site-packages/gym/spaces/box.py:226: UserWarning: \u001b[33mWARN: Casting input x to numpy array.\u001b[0m\n",
      "  logger.warn(\"Casting input x to numpy array.\")\n",
      "/root/.local/share/virtualenvs/workspace-dqq3IVyd/lib/python3.9/site-packages/gym/utils/passive_env_checker.py:165: UserWarning: \u001b[33mWARN: The obs returned by the `reset()` method is not within the observation space.\u001b[0m\n",
      "  logger.warn(f\"{pre} is not within the observation space.\")\n",
      "/root/.local/share/virtualenvs/workspace-dqq3IVyd/lib/python3.9/site-packages/gym/utils/passive_env_checker.py:137: UserWarning: \u001b[33mWARN: The obs returned by the `reset()` method was expecting a numpy array, actual type: <class 'pygame.math.Vector2'>\u001b[0m\n",
      "  logger.warn(\n",
      "/root/.local/share/virtualenvs/workspace-dqq3IVyd/lib/python3.9/site-packages/gym/utils/passive_env_checker.py:137: UserWarning: \u001b[33mWARN: The obs returned by the `reset()` method was expecting a numpy array, actual type: <class 'list'>\u001b[0m\n",
      "  logger.warn(\n",
      "/root/.local/share/virtualenvs/workspace-dqq3IVyd/lib/python3.9/site-packages/gym/utils/passive_env_checker.py:227: DeprecationWarning: \u001b[33mWARN: Core environment is written in old step API which returns one bool instead of two. It is recommended to rewrite the environment with new step API. \u001b[0m\n",
      "  logger.deprecation(\n",
      "/root/.local/share/virtualenvs/workspace-dqq3IVyd/lib/python3.9/site-packages/gym/utils/passive_env_checker.py:137: UserWarning: \u001b[33mWARN: The obs returned by the `step()` method was expecting a numpy array, actual type: <class 'float'>\u001b[0m\n",
      "  logger.warn(\n",
      "/root/.local/share/virtualenvs/workspace-dqq3IVyd/lib/python3.9/site-packages/gym/spaces/box.py:226: UserWarning: \u001b[33mWARN: Casting input x to numpy array.\u001b[0m\n",
      "  logger.warn(\"Casting input x to numpy array.\")\n",
      "/root/.local/share/virtualenvs/workspace-dqq3IVyd/lib/python3.9/site-packages/gym/utils/passive_env_checker.py:165: UserWarning: \u001b[33mWARN: The obs returned by the `step()` method is not within the observation space.\u001b[0m\n",
      "  logger.warn(f\"{pre} is not within the observation space.\")\n",
      "/root/.local/share/virtualenvs/workspace-dqq3IVyd/lib/python3.9/site-packages/gym/utils/passive_env_checker.py:137: UserWarning: \u001b[33mWARN: The obs returned by the `step()` method was expecting a numpy array, actual type: <class 'pygame.math.Vector2'>\u001b[0m\n",
      "  logger.warn(\n",
      "/root/.local/share/virtualenvs/workspace-dqq3IVyd/lib/python3.9/site-packages/gym/utils/passive_env_checker.py:137: UserWarning: \u001b[33mWARN: The obs returned by the `step()` method was expecting a numpy array, actual type: <class 'list'>\u001b[0m\n",
      "  logger.warn(\n"
     ]
    },
    {
     "name": "stdout",
     "output_type": "stream",
     "text": [
      "reset called\n",
      "stop at:  2022-04-10 14:00:01\n",
      "saving df:  /workspace/data/rev-moenk/training/df_2022-04-10 13:00:01.pkl\n"
     ]
    }
   ],
   "source": [
    "### Generate neighborhood images\n",
    "\n",
    "kwargs = dict(\n",
    "    generate_training_data=True,\n",
    "    data_directory='/workspace/data/rev-moenk3/training/',\n",
    "    df_filename='2022-04-01-12->04-07-12.pkl',\n",
    "    startingTime=datetime.datetime(2022, 4, 1, 12, 0, 1),\n",
    ")\n",
    "\n",
    "gym.register(\n",
    "    id=\"FerryGym-preprocess-v1\",\n",
    "    entry_point=\"FerryGymEnv.FerryGymEnv:FerryGymEnv\",\n",
    "    kwargs=kwargs,\n",
    ")\n",
    "\n",
    "env = gym.make('FerryGym-preprocess-v1')\n",
    "\n",
    "print('start generating images, this may take a while')\n",
    "env.reset()\n",
    "done = False\n",
    "# for step in range(1):\n",
    "while not done:\n",
    "    obs, reward, done, info = env.step((1, 1))\n",
    "    if done:\n",
    "        env.close()\n",
    "        break\n",
    "\n"
   ]
  }
 ],
 "metadata": {
  "kernelspec": {
   "display_name": "Python 3.9.12 ('workspace-dqq3IVyd')",
   "language": "python",
   "name": "python3"
  },
  "language_info": {
   "codemirror_mode": {
    "name": "ipython",
    "version": 3
   },
   "file_extension": ".py",
   "mimetype": "text/x-python",
   "name": "python",
   "nbconvert_exporter": "python",
   "pygments_lexer": "ipython3",
   "version": "3.9.12"
  },
  "orig_nbformat": 4,
  "vscode": {
   "interpreter": {
    "hash": "98bff4cb4aa4b884ece67f7e2958abe4a1b89abafae564f12c809048d10f21d8"
   }
  }
 },
 "nbformat": 4,
 "nbformat_minor": 2
}
