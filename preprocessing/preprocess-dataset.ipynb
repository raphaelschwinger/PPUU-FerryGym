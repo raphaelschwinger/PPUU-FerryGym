{
 "cells": [
  {
   "attachments": {},
   "cell_type": "markdown",
   "metadata": {},
   "source": [
    "# Preproces AIS data\n",
    "\n",
    "Load data for a specific region and time period and extract trajectories of ships."
   ]
  },
  {
   "cell_type": "code",
   "execution_count": 1,
   "metadata": {},
   "outputs": [
    {
     "name": "stdout",
     "output_type": "stream",
     "text": [
      "path ferrygym ['/workspace/preprocessing', '/opt/conda/lib/python38.zip', '/opt/conda/lib/python3.8', '/opt/conda/lib/python3.8/lib-dynload', '', '/root/.cache/pypoetry/virtualenvs/ppuu-ferrygym-xS3fZVNL-py3.8/lib/python3.8/site-packages', '/root/.cache/pypoetry/virtualenvs/ppuu-ferrygym-xS3fZVNL-py3.8/lib/python3.8/site-packages/ferrygym']\n",
      "path ferrygym ['/workspace/preprocessing', '/opt/conda/lib/python38.zip', '/opt/conda/lib/python3.8', '/opt/conda/lib/python3.8/lib-dynload', '', '/root/.cache/pypoetry/virtualenvs/ppuu-ferrygym-xS3fZVNL-py3.8/lib/python3.8/site-packages', '/root/.cache/pypoetry/virtualenvs/ppuu-ferrygym-xS3fZVNL-py3.8/lib/python3.8/site-packages/ferrygym', '/root/.cache/pypoetry/virtualenvs/ppuu-ferrygym-xS3fZVNL-py3.8/lib/python3.8/site-packages/ferrygym']\n"
     ]
    },
    {
     "name": "stderr",
     "output_type": "stream",
     "text": [
      "/root/.cache/pypoetry/virtualenvs/ppuu-ferrygym-xS3fZVNL-py3.8/lib/python3.8/site-packages/gym/spaces/box.py:128: UserWarning: \u001b[33mWARN: Box bound precision lowered by casting to float32\u001b[0m\n",
      "  logger.warn(f\"Box bound precision lowered by casting to {self.dtype}\")\n",
      "/root/.cache/pypoetry/virtualenvs/ppuu-ferrygym-xS3fZVNL-py3.8/lib/python3.8/site-packages/torch/functional.py:504: UserWarning: torch.meshgrid: in an upcoming release, it will be required to pass the indexing argument. (Triggered internally at ../aten/src/ATen/native/TensorShape.cpp:3190.)\n",
      "  return _VF.meshgrid(tensors, **kwargs)  # type: ignore[attr-defined]\n"
     ]
    }
   ],
   "source": [
    "# imports\n",
    "from gql import gql, Client\n",
    "from gql.transport.aiohttp import AIOHTTPTransport\n",
    "import pandas as pd\n",
    "import gym\n",
    "import datetime\n",
    "\n",
    "import os, sys\n",
    "\n",
    "import numpy as np\n",
    "\n",
    "\n",
    "from ferrygym import FerryGymEnv, Ship, plot_helpers\n",
    "from MapRevMoenk import *\n",
    "\n",
    "DATASET_NAME = 'rev-moenk-22-04-01-12-00--04-02'\n"
   ]
  },
  {
   "attachments": {},
   "cell_type": "markdown",
   "metadata": {},
   "source": [
    "## Load data\n",
    "\n",
    "Our AIS data is stored at a Postgres server at our institute's server.\n",
    "To access the data a GraphQL API is provided through [Hasura](https://hasura.io/).\n",
    "This Data is not publicly available but a sample dataset is provided in `data/rev-moenk-22-04-01-12-00--04-02`\n"
   ]
  },
  {
   "cell_type": "code",
   "execution_count": 2,
   "metadata": {},
   "outputs": [
    {
     "name": "stdout",
     "output_type": "stream",
     "text": [
      "{'lteTimeString': '2022-04-02 12:00:00+00', 'gteTimeString': '2022-04-01 12:00:00+00', 'bound_right': 10.190433, 'bound_left': 10.141767, 'bound_top': 54.352733, 'bound_bottom': 54.325583, 'minSpeed': 0.3}\n"
     ]
    },
    {
     "ename": "ClientConnectorError",
     "evalue": "Cannot connect to host 172.23.0.4:8080 ssl:False [Connect call failed ('172.23.0.4', 8080)]",
     "output_type": "error",
     "traceback": [
      "\u001b[0;31m---------------------------------------------------------------------------\u001b[0m",
      "\u001b[0;31mTimeoutError\u001b[0m                              Traceback (most recent call last)",
      "File \u001b[0;32m~/.cache/pypoetry/virtualenvs/ppuu-ferrygym-xS3fZVNL-py3.8/lib/python3.8/site-packages/aiohttp/connector.py:980\u001b[0m, in \u001b[0;36mTCPConnector._wrap_create_connection\u001b[0;34m(self, req, timeout, client_error, *args, **kwargs)\u001b[0m\n\u001b[1;32m    979\u001b[0m     \u001b[39masync\u001b[39;00m \u001b[39mwith\u001b[39;00m ceil_timeout(timeout\u001b[39m.\u001b[39msock_connect):\n\u001b[0;32m--> 980\u001b[0m         \u001b[39mreturn\u001b[39;00m \u001b[39mawait\u001b[39;00m \u001b[39mself\u001b[39m\u001b[39m.\u001b[39m_loop\u001b[39m.\u001b[39mcreate_connection(\u001b[39m*\u001b[39margs, \u001b[39m*\u001b[39m\u001b[39m*\u001b[39mkwargs)  \u001b[39m# type: ignore[return-value]  # noqa\u001b[39;00m\n\u001b[1;32m    981\u001b[0m \u001b[39mexcept\u001b[39;00m cert_errors \u001b[39mas\u001b[39;00m exc:\n",
      "File \u001b[0;32m/opt/conda/lib/python3.8/asyncio/base_events.py:1025\u001b[0m, in \u001b[0;36mBaseEventLoop.create_connection\u001b[0;34m(self, protocol_factory, host, port, ssl, family, proto, flags, sock, local_addr, server_hostname, ssl_handshake_timeout, happy_eyeballs_delay, interleave)\u001b[0m\n\u001b[1;32m   1024\u001b[0m \u001b[39mif\u001b[39;00m \u001b[39mlen\u001b[39m(exceptions) \u001b[39m==\u001b[39m \u001b[39m1\u001b[39m:\n\u001b[0;32m-> 1025\u001b[0m     \u001b[39mraise\u001b[39;00m exceptions[\u001b[39m0\u001b[39m]\n\u001b[1;32m   1026\u001b[0m \u001b[39melse\u001b[39;00m:\n\u001b[1;32m   1027\u001b[0m     \u001b[39m# If they all have the same str(), raise one.\u001b[39;00m\n",
      "File \u001b[0;32m/opt/conda/lib/python3.8/asyncio/base_events.py:1010\u001b[0m, in \u001b[0;36mBaseEventLoop.create_connection\u001b[0;34m(self, protocol_factory, host, port, ssl, family, proto, flags, sock, local_addr, server_hostname, ssl_handshake_timeout, happy_eyeballs_delay, interleave)\u001b[0m\n\u001b[1;32m   1009\u001b[0m \u001b[39mtry\u001b[39;00m:\n\u001b[0;32m-> 1010\u001b[0m     sock \u001b[39m=\u001b[39m \u001b[39mawait\u001b[39;00m \u001b[39mself\u001b[39m\u001b[39m.\u001b[39m_connect_sock(\n\u001b[1;32m   1011\u001b[0m         exceptions, addrinfo, laddr_infos)\n\u001b[1;32m   1012\u001b[0m     \u001b[39mbreak\u001b[39;00m\n",
      "File \u001b[0;32m/opt/conda/lib/python3.8/asyncio/base_events.py:924\u001b[0m, in \u001b[0;36mBaseEventLoop._connect_sock\u001b[0;34m(self, exceptions, addr_info, local_addr_infos)\u001b[0m\n\u001b[1;32m    923\u001b[0m         \u001b[39mraise\u001b[39;00m my_exceptions\u001b[39m.\u001b[39mpop()\n\u001b[0;32m--> 924\u001b[0m \u001b[39mawait\u001b[39;00m \u001b[39mself\u001b[39m\u001b[39m.\u001b[39msock_connect(sock, address)\n\u001b[1;32m    925\u001b[0m \u001b[39mreturn\u001b[39;00m sock\n",
      "File \u001b[0;32m/opt/conda/lib/python3.8/asyncio/selector_events.py:496\u001b[0m, in \u001b[0;36mBaseSelectorEventLoop.sock_connect\u001b[0;34m(self, sock, address)\u001b[0m\n\u001b[1;32m    495\u001b[0m \u001b[39mself\u001b[39m\u001b[39m.\u001b[39m_sock_connect(fut, sock, address)\n\u001b[0;32m--> 496\u001b[0m \u001b[39mreturn\u001b[39;00m \u001b[39mawait\u001b[39;00m fut\n",
      "File \u001b[0;32m/opt/conda/lib/python3.8/asyncio/selector_events.py:528\u001b[0m, in \u001b[0;36mBaseSelectorEventLoop._sock_connect_cb\u001b[0;34m(self, fut, sock, address)\u001b[0m\n\u001b[1;32m    526\u001b[0m     \u001b[39mif\u001b[39;00m err \u001b[39m!=\u001b[39m \u001b[39m0\u001b[39m:\n\u001b[1;32m    527\u001b[0m         \u001b[39m# Jump to any except clause below.\u001b[39;00m\n\u001b[0;32m--> 528\u001b[0m         \u001b[39mraise\u001b[39;00m \u001b[39mOSError\u001b[39;00m(err, \u001b[39mf\u001b[39m\u001b[39m'\u001b[39m\u001b[39mConnect call failed \u001b[39m\u001b[39m{\u001b[39;00maddress\u001b[39m}\u001b[39;00m\u001b[39m'\u001b[39m)\n\u001b[1;32m    529\u001b[0m \u001b[39mexcept\u001b[39;00m (\u001b[39mBlockingIOError\u001b[39;00m, \u001b[39mInterruptedError\u001b[39;00m):\n\u001b[1;32m    530\u001b[0m     \u001b[39m# socket is still registered, the callback will be retried later\u001b[39;00m\n",
      "\u001b[0;31mTimeoutError\u001b[0m: [Errno 110] Connect call failed ('172.23.0.4', 8080)",
      "\nThe above exception was the direct cause of the following exception:\n",
      "\u001b[0;31mClientConnectorError\u001b[0m                      Traceback (most recent call last)",
      "Cell \u001b[0;32mIn[2], line 44\u001b[0m\n\u001b[1;32m     40\u001b[0m \u001b[39mprint\u001b[39m(params)\n\u001b[1;32m     43\u001b[0m \u001b[39m# Execute the query on the transport\u001b[39;00m\n\u001b[0;32m---> 44\u001b[0m result \u001b[39m=\u001b[39m \u001b[39mawait\u001b[39;00m client\u001b[39m.\u001b[39mexecute_async(query, variable_values\u001b[39m=\u001b[39mparams)\n\u001b[1;32m     45\u001b[0m df \u001b[39m=\u001b[39m pd\u001b[39m.\u001b[39mDataFrame(result[\u001b[39m'\u001b[39m\u001b[39mais\u001b[39m\u001b[39m'\u001b[39m])\n\u001b[1;32m     46\u001b[0m \u001b[39m# get min datetime in df\u001b[39;00m\n",
      "File \u001b[0;32m~/.cache/pypoetry/virtualenvs/ppuu-ferrygym-xS3fZVNL-py3.8/lib/python3.8/site-packages/gql/client.py:284\u001b[0m, in \u001b[0;36mClient.execute_async\u001b[0;34m(self, document, variable_values, operation_name, serialize_variables, parse_result, get_execution_result, **kwargs)\u001b[0m\n\u001b[1;32m    273\u001b[0m \u001b[39masync\u001b[39;00m \u001b[39mdef\u001b[39;00m \u001b[39mexecute_async\u001b[39m(\n\u001b[1;32m    274\u001b[0m     \u001b[39mself\u001b[39m,\n\u001b[1;32m    275\u001b[0m     document: DocumentNode,\n\u001b[0;32m   (...)\u001b[0m\n\u001b[1;32m    281\u001b[0m     \u001b[39m*\u001b[39m\u001b[39m*\u001b[39mkwargs,\n\u001b[1;32m    282\u001b[0m ) \u001b[39m-\u001b[39m\u001b[39m>\u001b[39m Union[Dict[\u001b[39mstr\u001b[39m, Any], ExecutionResult]:\n\u001b[1;32m    283\u001b[0m \u001b[39m    \u001b[39m\u001b[39m\"\"\":meta private:\"\"\"\u001b[39;00m\n\u001b[0;32m--> 284\u001b[0m     \u001b[39masync\u001b[39;00m \u001b[39mwith\u001b[39;00m \u001b[39mself\u001b[39m \u001b[39mas\u001b[39;00m session:\n\u001b[1;32m    285\u001b[0m         \u001b[39mreturn\u001b[39;00m \u001b[39mawait\u001b[39;00m session\u001b[39m.\u001b[39mexecute(\n\u001b[1;32m    286\u001b[0m             document,\n\u001b[1;32m    287\u001b[0m             variable_values\u001b[39m=\u001b[39mvariable_values,\n\u001b[0;32m   (...)\u001b[0m\n\u001b[1;32m    292\u001b[0m             \u001b[39m*\u001b[39m\u001b[39m*\u001b[39mkwargs,\n\u001b[1;32m    293\u001b[0m         )\n",
      "File \u001b[0;32m~/.cache/pypoetry/virtualenvs/ppuu-ferrygym-xS3fZVNL-py3.8/lib/python3.8/site-packages/gql/client.py:658\u001b[0m, in \u001b[0;36mClient.__aenter__\u001b[0;34m(self)\u001b[0m\n\u001b[1;32m    656\u001b[0m \u001b[39masync\u001b[39;00m \u001b[39mdef\u001b[39;00m \u001b[39m__aenter__\u001b[39m(\u001b[39mself\u001b[39m):\n\u001b[0;32m--> 658\u001b[0m     \u001b[39mreturn\u001b[39;00m \u001b[39mawait\u001b[39;00m \u001b[39mself\u001b[39m\u001b[39m.\u001b[39mconnect_async()\n",
      "File \u001b[0;32m~/.cache/pypoetry/virtualenvs/ppuu-ferrygym-xS3fZVNL-py3.8/lib/python3.8/site-packages/gql/client.py:638\u001b[0m, in \u001b[0;36mClient.connect_async\u001b[0;34m(self, reconnecting, **kwargs)\u001b[0m\n\u001b[1;32m    636\u001b[0m \u001b[39mtry\u001b[39;00m:\n\u001b[1;32m    637\u001b[0m     \u001b[39mif\u001b[39;00m \u001b[39mself\u001b[39m\u001b[39m.\u001b[39mfetch_schema_from_transport \u001b[39mand\u001b[39;00m \u001b[39mnot\u001b[39;00m \u001b[39mself\u001b[39m\u001b[39m.\u001b[39mschema:\n\u001b[0;32m--> 638\u001b[0m         \u001b[39mawait\u001b[39;00m \u001b[39mself\u001b[39m\u001b[39m.\u001b[39msession\u001b[39m.\u001b[39mfetch_schema()\n\u001b[1;32m    639\u001b[0m \u001b[39mexcept\u001b[39;00m \u001b[39mException\u001b[39;00m:\n\u001b[1;32m    640\u001b[0m     \u001b[39m# we don't know what type of exception is thrown here because it\u001b[39;00m\n\u001b[1;32m    641\u001b[0m     \u001b[39m# depends on the underlying transport; we just make sure that the\u001b[39;00m\n\u001b[1;32m    642\u001b[0m     \u001b[39m# transport is closed and re-raise the exception\u001b[39;00m\n\u001b[1;32m    643\u001b[0m     \u001b[39mawait\u001b[39;00m \u001b[39mself\u001b[39m\u001b[39m.\u001b[39mtransport\u001b[39m.\u001b[39mclose()\n",
      "File \u001b[0;32m~/.cache/pypoetry/virtualenvs/ppuu-ferrygym-xS3fZVNL-py3.8/lib/python3.8/site-packages/gql/client.py:1252\u001b[0m, in \u001b[0;36mAsyncClientSession.fetch_schema\u001b[0;34m(self)\u001b[0m\n\u001b[1;32m   1247\u001b[0m \u001b[39masync\u001b[39;00m \u001b[39mdef\u001b[39;00m \u001b[39mfetch_schema\u001b[39m(\u001b[39mself\u001b[39m) \u001b[39m-\u001b[39m\u001b[39m>\u001b[39m \u001b[39mNone\u001b[39;00m:\n\u001b[1;32m   1248\u001b[0m \u001b[39m    \u001b[39m\u001b[39m\"\"\"Fetch the GraphQL schema explicitely using introspection.\u001b[39;00m\n\u001b[1;32m   1249\u001b[0m \n\u001b[1;32m   1250\u001b[0m \u001b[39m    Don't use this function and instead set the fetch_schema_from_transport\u001b[39;00m\n\u001b[1;32m   1251\u001b[0m \u001b[39m    attribute to True\"\"\"\u001b[39;00m\n\u001b[0;32m-> 1252\u001b[0m     execution_result \u001b[39m=\u001b[39m \u001b[39mawait\u001b[39;00m \u001b[39mself\u001b[39m\u001b[39m.\u001b[39mtransport\u001b[39m.\u001b[39mexecute(\n\u001b[1;32m   1253\u001b[0m         parse(get_introspection_query())\n\u001b[1;32m   1254\u001b[0m     )\n\u001b[1;32m   1256\u001b[0m     \u001b[39mself\u001b[39m\u001b[39m.\u001b[39mclient\u001b[39m.\u001b[39m_build_schema_from_introspection(execution_result)\n",
      "File \u001b[0;32m~/.cache/pypoetry/virtualenvs/ppuu-ferrygym-xS3fZVNL-py3.8/lib/python3.8/site-packages/gql/transport/aiohttp.py:296\u001b[0m, in \u001b[0;36mAIOHTTPTransport.execute\u001b[0;34m(self, document, variable_values, operation_name, extra_args, upload_files)\u001b[0m\n\u001b[1;32m    293\u001b[0m \u001b[39mif\u001b[39;00m \u001b[39mself\u001b[39m\u001b[39m.\u001b[39msession \u001b[39mis\u001b[39;00m \u001b[39mNone\u001b[39;00m:\n\u001b[1;32m    294\u001b[0m     \u001b[39mraise\u001b[39;00m TransportClosed(\u001b[39m\"\u001b[39m\u001b[39mTransport is not connected\u001b[39m\u001b[39m\"\u001b[39m)\n\u001b[0;32m--> 296\u001b[0m \u001b[39masync\u001b[39;00m \u001b[39mwith\u001b[39;00m \u001b[39mself\u001b[39m\u001b[39m.\u001b[39msession\u001b[39m.\u001b[39mpost(\u001b[39mself\u001b[39m\u001b[39m.\u001b[39murl, ssl\u001b[39m=\u001b[39m\u001b[39mself\u001b[39m\u001b[39m.\u001b[39mssl, \u001b[39m*\u001b[39m\u001b[39m*\u001b[39mpost_args) \u001b[39mas\u001b[39;00m resp:\n\u001b[1;32m    298\u001b[0m     \u001b[39masync\u001b[39;00m \u001b[39mdef\u001b[39;00m \u001b[39mraise_response_error\u001b[39m(resp: aiohttp\u001b[39m.\u001b[39mClientResponse, reason: \u001b[39mstr\u001b[39m):\n\u001b[1;32m    299\u001b[0m         \u001b[39m# We raise a TransportServerError if the status code is 400 or higher\u001b[39;00m\n\u001b[1;32m    300\u001b[0m         \u001b[39m# We raise a TransportProtocolError in the other cases\u001b[39;00m\n\u001b[1;32m    302\u001b[0m         \u001b[39mtry\u001b[39;00m:\n\u001b[1;32m    303\u001b[0m             \u001b[39m# Raise a ClientResponseError if response status is 400 or higher\u001b[39;00m\n",
      "File \u001b[0;32m~/.cache/pypoetry/virtualenvs/ppuu-ferrygym-xS3fZVNL-py3.8/lib/python3.8/site-packages/aiohttp/client.py:1141\u001b[0m, in \u001b[0;36m_BaseRequestContextManager.__aenter__\u001b[0;34m(self)\u001b[0m\n\u001b[1;32m   1140\u001b[0m \u001b[39masync\u001b[39;00m \u001b[39mdef\u001b[39;00m \u001b[39m__aenter__\u001b[39m(\u001b[39mself\u001b[39m) \u001b[39m-\u001b[39m\u001b[39m>\u001b[39m _RetType:\n\u001b[0;32m-> 1141\u001b[0m     \u001b[39mself\u001b[39m\u001b[39m.\u001b[39m_resp \u001b[39m=\u001b[39m \u001b[39mawait\u001b[39;00m \u001b[39mself\u001b[39m\u001b[39m.\u001b[39m_coro\n\u001b[1;32m   1142\u001b[0m     \u001b[39mreturn\u001b[39;00m \u001b[39mself\u001b[39m\u001b[39m.\u001b[39m_resp\n",
      "File \u001b[0;32m~/.cache/pypoetry/virtualenvs/ppuu-ferrygym-xS3fZVNL-py3.8/lib/python3.8/site-packages/aiohttp/client.py:536\u001b[0m, in \u001b[0;36mClientSession._request\u001b[0;34m(self, method, str_or_url, params, data, json, cookies, headers, skip_auto_headers, auth, allow_redirects, max_redirects, compress, chunked, expect100, raise_for_status, read_until_eof, proxy, proxy_auth, timeout, verify_ssl, fingerprint, ssl_context, ssl, proxy_headers, trace_request_ctx, read_bufsize)\u001b[0m\n\u001b[1;32m    534\u001b[0m     \u001b[39masync\u001b[39;00m \u001b[39mwith\u001b[39;00m ceil_timeout(real_timeout\u001b[39m.\u001b[39mconnect):\n\u001b[1;32m    535\u001b[0m         \u001b[39massert\u001b[39;00m \u001b[39mself\u001b[39m\u001b[39m.\u001b[39m_connector \u001b[39mis\u001b[39;00m \u001b[39mnot\u001b[39;00m \u001b[39mNone\u001b[39;00m\n\u001b[0;32m--> 536\u001b[0m         conn \u001b[39m=\u001b[39m \u001b[39mawait\u001b[39;00m \u001b[39mself\u001b[39m\u001b[39m.\u001b[39m_connector\u001b[39m.\u001b[39mconnect(\n\u001b[1;32m    537\u001b[0m             req, traces\u001b[39m=\u001b[39mtraces, timeout\u001b[39m=\u001b[39mreal_timeout\n\u001b[1;32m    538\u001b[0m         )\n\u001b[1;32m    539\u001b[0m \u001b[39mexcept\u001b[39;00m asyncio\u001b[39m.\u001b[39mTimeoutError \u001b[39mas\u001b[39;00m exc:\n\u001b[1;32m    540\u001b[0m     \u001b[39mraise\u001b[39;00m ServerTimeoutError(\n\u001b[1;32m    541\u001b[0m         \u001b[39m\"\u001b[39m\u001b[39mConnection timeout \u001b[39m\u001b[39m\"\u001b[39m \u001b[39m\"\u001b[39m\u001b[39mto host \u001b[39m\u001b[39m{}\u001b[39;00m\u001b[39m\"\u001b[39m\u001b[39m.\u001b[39mformat(url)\n\u001b[1;32m    542\u001b[0m     ) \u001b[39mfrom\u001b[39;00m \u001b[39mexc\u001b[39;00m\n",
      "File \u001b[0;32m~/.cache/pypoetry/virtualenvs/ppuu-ferrygym-xS3fZVNL-py3.8/lib/python3.8/site-packages/aiohttp/connector.py:540\u001b[0m, in \u001b[0;36mBaseConnector.connect\u001b[0;34m(self, req, traces, timeout)\u001b[0m\n\u001b[1;32m    537\u001b[0m         \u001b[39mawait\u001b[39;00m trace\u001b[39m.\u001b[39msend_connection_create_start()\n\u001b[1;32m    539\u001b[0m \u001b[39mtry\u001b[39;00m:\n\u001b[0;32m--> 540\u001b[0m     proto \u001b[39m=\u001b[39m \u001b[39mawait\u001b[39;00m \u001b[39mself\u001b[39m\u001b[39m.\u001b[39m_create_connection(req, traces, timeout)\n\u001b[1;32m    541\u001b[0m     \u001b[39mif\u001b[39;00m \u001b[39mself\u001b[39m\u001b[39m.\u001b[39m_closed:\n\u001b[1;32m    542\u001b[0m         proto\u001b[39m.\u001b[39mclose()\n",
      "File \u001b[0;32m~/.cache/pypoetry/virtualenvs/ppuu-ferrygym-xS3fZVNL-py3.8/lib/python3.8/site-packages/aiohttp/connector.py:901\u001b[0m, in \u001b[0;36mTCPConnector._create_connection\u001b[0;34m(self, req, traces, timeout)\u001b[0m\n\u001b[1;32m    899\u001b[0m     _, proto \u001b[39m=\u001b[39m \u001b[39mawait\u001b[39;00m \u001b[39mself\u001b[39m\u001b[39m.\u001b[39m_create_proxy_connection(req, traces, timeout)\n\u001b[1;32m    900\u001b[0m \u001b[39melse\u001b[39;00m:\n\u001b[0;32m--> 901\u001b[0m     _, proto \u001b[39m=\u001b[39m \u001b[39mawait\u001b[39;00m \u001b[39mself\u001b[39m\u001b[39m.\u001b[39m_create_direct_connection(req, traces, timeout)\n\u001b[1;32m    903\u001b[0m \u001b[39mreturn\u001b[39;00m proto\n",
      "File \u001b[0;32m~/.cache/pypoetry/virtualenvs/ppuu-ferrygym-xS3fZVNL-py3.8/lib/python3.8/site-packages/aiohttp/connector.py:1206\u001b[0m, in \u001b[0;36mTCPConnector._create_direct_connection\u001b[0;34m(self, req, traces, timeout, client_error)\u001b[0m\n\u001b[1;32m   1204\u001b[0m \u001b[39melse\u001b[39;00m:\n\u001b[1;32m   1205\u001b[0m     \u001b[39massert\u001b[39;00m last_exc \u001b[39mis\u001b[39;00m \u001b[39mnot\u001b[39;00m \u001b[39mNone\u001b[39;00m\n\u001b[0;32m-> 1206\u001b[0m     \u001b[39mraise\u001b[39;00m last_exc\n",
      "File \u001b[0;32m~/.cache/pypoetry/virtualenvs/ppuu-ferrygym-xS3fZVNL-py3.8/lib/python3.8/site-packages/aiohttp/connector.py:1175\u001b[0m, in \u001b[0;36mTCPConnector._create_direct_connection\u001b[0;34m(self, req, traces, timeout, client_error)\u001b[0m\n\u001b[1;32m   1172\u001b[0m port \u001b[39m=\u001b[39m hinfo[\u001b[39m\"\u001b[39m\u001b[39mport\u001b[39m\u001b[39m\"\u001b[39m]\n\u001b[1;32m   1174\u001b[0m \u001b[39mtry\u001b[39;00m:\n\u001b[0;32m-> 1175\u001b[0m     transp, proto \u001b[39m=\u001b[39m \u001b[39mawait\u001b[39;00m \u001b[39mself\u001b[39m\u001b[39m.\u001b[39m_wrap_create_connection(\n\u001b[1;32m   1176\u001b[0m         \u001b[39mself\u001b[39m\u001b[39m.\u001b[39m_factory,\n\u001b[1;32m   1177\u001b[0m         host,\n\u001b[1;32m   1178\u001b[0m         port,\n\u001b[1;32m   1179\u001b[0m         timeout\u001b[39m=\u001b[39mtimeout,\n\u001b[1;32m   1180\u001b[0m         ssl\u001b[39m=\u001b[39msslcontext,\n\u001b[1;32m   1181\u001b[0m         family\u001b[39m=\u001b[39mhinfo[\u001b[39m\"\u001b[39m\u001b[39mfamily\u001b[39m\u001b[39m\"\u001b[39m],\n\u001b[1;32m   1182\u001b[0m         proto\u001b[39m=\u001b[39mhinfo[\u001b[39m\"\u001b[39m\u001b[39mproto\u001b[39m\u001b[39m\"\u001b[39m],\n\u001b[1;32m   1183\u001b[0m         flags\u001b[39m=\u001b[39mhinfo[\u001b[39m\"\u001b[39m\u001b[39mflags\u001b[39m\u001b[39m\"\u001b[39m],\n\u001b[1;32m   1184\u001b[0m         server_hostname\u001b[39m=\u001b[39mhinfo[\u001b[39m\"\u001b[39m\u001b[39mhostname\u001b[39m\u001b[39m\"\u001b[39m] \u001b[39mif\u001b[39;00m sslcontext \u001b[39melse\u001b[39;00m \u001b[39mNone\u001b[39;00m,\n\u001b[1;32m   1185\u001b[0m         local_addr\u001b[39m=\u001b[39m\u001b[39mself\u001b[39m\u001b[39m.\u001b[39m_local_addr,\n\u001b[1;32m   1186\u001b[0m         req\u001b[39m=\u001b[39mreq,\n\u001b[1;32m   1187\u001b[0m         client_error\u001b[39m=\u001b[39mclient_error,\n\u001b[1;32m   1188\u001b[0m     )\n\u001b[1;32m   1189\u001b[0m \u001b[39mexcept\u001b[39;00m ClientConnectorError \u001b[39mas\u001b[39;00m exc:\n\u001b[1;32m   1190\u001b[0m     last_exc \u001b[39m=\u001b[39m exc\n",
      "File \u001b[0;32m~/.cache/pypoetry/virtualenvs/ppuu-ferrygym-xS3fZVNL-py3.8/lib/python3.8/site-packages/aiohttp/connector.py:988\u001b[0m, in \u001b[0;36mTCPConnector._wrap_create_connection\u001b[0;34m(self, req, timeout, client_error, *args, **kwargs)\u001b[0m\n\u001b[1;32m    986\u001b[0m \u001b[39mif\u001b[39;00m exc\u001b[39m.\u001b[39merrno \u001b[39mis\u001b[39;00m \u001b[39mNone\u001b[39;00m \u001b[39mand\u001b[39;00m \u001b[39misinstance\u001b[39m(exc, asyncio\u001b[39m.\u001b[39mTimeoutError):\n\u001b[1;32m    987\u001b[0m     \u001b[39mraise\u001b[39;00m\n\u001b[0;32m--> 988\u001b[0m \u001b[39mraise\u001b[39;00m client_error(req\u001b[39m.\u001b[39mconnection_key, exc) \u001b[39mfrom\u001b[39;00m \u001b[39mexc\u001b[39;00m\n",
      "\u001b[0;31mClientConnectorError\u001b[0m: Cannot connect to host 172.23.0.4:8080 ssl:False [Connect call failed ('172.23.0.4', 8080)]"
     ]
    }
   ],
   "source": [
    "# connect to api\n",
    "# Select your transport with a defined url endpoint\n",
    "transport = AIOHTTPTransport(\n",
    "    url=\"http://172.23.0.4:8080/v1/graphql\",\n",
    "    headers={'content-type': 'application/json',\n",
    "        'x-hasura-admin-secret': 'aaasdsdndsfvksdsd'})\n",
    "\n",
    "# Create a GraphQL client using the defined transport\n",
    "client = Client(transport=transport, fetch_schema_from_transport=True)\n",
    "\n",
    "# Provide a GraphQL query\n",
    "query = gql(\n",
    "    \"\"\"\n",
    "    query MyQuery(\n",
    "  $lteTimeString: String!,\n",
    "  $gteTimeString: String!,\n",
    "  $bound_bottom: float8!,\n",
    "  $bound_top: float8!,\n",
    "  $bound_left: float8!,\n",
    "  $bound_right: float8!,\n",
    "  $minSpeed: float8!) {\n",
    "      ais(limit: 10000000, where: {\n",
    "        datetime: {_lt: $lteTimeString, _gte: $gteTimeString},\n",
    "        lon: {_is_null: false, _gte: $bound_left, _lte: $bound_right},\n",
    "        lat: {_is_null: false, _gte: $bound_bottom, _lte: $bound_top},\n",
    "        speed: {_is_null: false, _gt: $minSpeed},\n",
    "        }) {\n",
    "            mmsi\n",
    "            datetime\n",
    "            lat\n",
    "            lon\n",
    "            speed\n",
    "            heading\n",
    "            }\n",
    "    }\n",
    "\"\"\"\n",
    ")\n",
    "\n",
    "params = {\"lteTimeString\": \"2022-04-02 12:00:00+00\", \"gteTimeString\": \"2022-04-01 12:00:00+00\", \"bound_right\": BOUND_RIGHT, \"bound_left\": BOUND_LEFT, \"bound_top\": BOUND_TOP, \"bound_bottom\": BOUND_BOTTOM, \"minSpeed\": 0.3 }\n",
    "print(params)\n",
    "\n",
    "\n",
    "# Execute the query on the transport\n",
    "result = await client.execute_async(query, variable_values=params)\n",
    "df = pd.DataFrame(result['ais'])\n",
    "# get min datetime in df\n",
    "print('start data: ', df['datetime'].min())\n",
    "# get max datetime in df\n",
    "print('end date: ',df['datetime'].max())\n",
    "# print min speed\n",
    "print('min speed: ',df['speed'].min())\n",
    "# print max speed\n",
    "print('max speed: ',df['speed'].max())"
   ]
  },
  {
   "cell_type": "code",
   "execution_count": 10,
   "metadata": {},
   "outputs": [],
   "source": [
    "# replace each mmsi with a unique integer\n",
    "mmsi_list = df['mmsi'].unique()\n",
    "mmsi_dict = {mmsi_list[i]: i for i in range(len(mmsi_list))}\n",
    "df['mmsi'] = df['mmsi'].map(mmsi_dict)"
   ]
  },
  {
   "cell_type": "code",
   "execution_count": 11,
   "metadata": {},
   "outputs": [
    {
     "name": "stderr",
     "output_type": "stream",
     "text": [
      "/root/.cache/pypoetry/virtualenvs/ppuu-ferrygym-xS3fZVNL-py3.8/lib/python3.8/site-packages/gym/spaces/box.py:128: UserWarning: \u001b[33mWARN: Box bound precision lowered by casting to float32\u001b[0m\n",
      "  logger.warn(f\"Box bound precision lowered by casting to {self.dtype}\")\n"
     ]
    }
   ],
   "source": [
    "# Convert in env coordinates\n",
    "\n",
    "kwargs = dict(\n",
    "    generate_training_data=True,\n",
    "    data_directory='/workspace/data/rev-moenk/training/',\n",
    "    df_filename='2022-04-10-13->14.pkl',\n",
    ")\n",
    "\n",
    "env = FerryGymEnv.FerryGymEnv(**kwargs)\n",
    "# iterate though rows\n",
    "for index, row in df.iterrows():\n",
    "    # get x,y from env.convertLatonInEnvCoordinates\n",
    "    x, y = env.convertLatLotInEnvCoordinates(row['lat'], row['lon'])\n",
    "    # set x,y in df\n",
    "    df.at[index, 'x'] = x\n",
    "    df.at[index, 'y'] = y"
   ]
  },
  {
   "cell_type": "code",
   "execution_count": 12,
   "metadata": {},
   "outputs": [],
   "source": [
    "# interpolate_trajectories to generate position data for every second\n",
    "\n",
    "df['datetime'] = pd.to_datetime(df['datetime'])\n",
    "df.index = df['datetime']\n",
    "df_grouped = df.groupby(['mmsi'])\n",
    "df_resampled = df_grouped.resample('1S', on='datetime').mean()\n",
    "df_interpol = df_resampled.interpolate()"
   ]
  },
  {
   "cell_type": "code",
   "execution_count": 13,
   "metadata": {},
   "outputs": [],
   "source": [
    "# add index column and reset index\n",
    "df =  df_interpol.reset_index(level=['datetime'])\n",
    "# add new index column numbering the rows\n",
    "df['index'] = range(0, len(df))\n",
    "df.set_index('index', inplace=True)"
   ]
  },
  {
   "attachments": {},
   "cell_type": "markdown",
   "metadata": {},
   "source": [
    "### Calculate speed, acceleration, direction and direction_change"
   ]
  },
  {
   "cell_type": "code",
   "execution_count": 14,
   "metadata": {},
   "outputs": [
    {
     "name": "stdout",
     "output_type": "stream",
     "text": [
      "min speed_calculated:  0.0\n",
      "max speed_calculated:  3207.9212393395032\n",
      "count speed_calculated == 0:  4292\n"
     ]
    }
   ],
   "source": [
    "# calculate current speed and save in new column\n",
    "timedelta = datetime.timedelta(seconds=1)\n",
    "\n",
    "df['dist_x'] = df['x'].diff().fillna(0.)\n",
    "df['dist_y'] = df['y'].diff().fillna(0.)\n",
    "df['dist'] = (df['dist_x']**2 + df['dist_y']**2)**0.5\n",
    "# add column for speed in m/s (speed column is in knots)\n",
    "speed_calculated = df['dist'] / timedelta.total_seconds()\n",
    "df['speed_calculated'] = speed_calculated \n",
    "# print min speed_calculated\n",
    "print('min speed_calculated: ',df['speed_calculated'].min())\n",
    "# print max speed_calculated\n",
    "print('max speed_calculated: ',df['speed_calculated'].max())\n",
    "# count speed_calculated == 0\n",
    "print('count speed_calculated == 0: ',df['speed_calculated'].eq(0).sum())\n",
    "\n"
   ]
  },
  {
   "cell_type": "code",
   "execution_count": 15,
   "metadata": {},
   "outputs": [],
   "source": [
    "def angle_between(p1, p2):\n",
    "    ang1 = np.arctan2(*p1[::-1])\n",
    "    ang2 = np.arctan2(*p2[::-1])\n",
    "    return np.rad2deg((ang1 - ang2) % (2 * np.pi))\n",
    "\n",
    "df['dist_x']            = df['x'].diff().fillna(0.)\n",
    "df['dist_y']            = df['y'].diff().fillna(0.)\n",
    "df['dist']              = (df['dist_x']**2 + df['dist_y']**2)**0.5\n",
    "df['speed_calculated']  = df['dist'] / timedelta.total_seconds()\n",
    "df['direction']         = angle_between([0, 1], [df['dist_x'], -1 * df['dist_y']])"
   ]
  },
  {
   "cell_type": "code",
   "execution_count": 16,
   "metadata": {},
   "outputs": [],
   "source": [
    " # calculate acceleration and save in new column\n",
    "acceleration = df['speed_calculated'].diff().fillna(0.)\n",
    "df['acceleration'] = acceleration / timedelta.total_seconds()\n",
    "# move one row up to match state\n",
    "df['acceleration'] = df['acceleration'].shift(-1)"
   ]
  },
  {
   "cell_type": "code",
   "execution_count": 17,
   "metadata": {},
   "outputs": [],
   "source": [
    "import numpy as np\n",
    "def angle_between(p1, p2):\n",
    "    ang1 = np.arctan2(*p1[::-1])\n",
    "    ang2 = np.arctan2(*p2[::-1])\n",
    "    return np.rad2deg((ang1 - ang2) % (2 * np.pi))\n",
    "\n",
    "df['direction'] = angle_between([0, 1], [df['dist_x'], -1 * df['dist_y']])"
   ]
  },
  {
   "cell_type": "code",
   "execution_count": 18,
   "metadata": {},
   "outputs": [],
   "source": [
    "# add direction_change column\n",
    "df['direction_change'] = df['direction'].diff().fillna(0)\n",
    "# move one row up to match state\n",
    "df['direction_change'] = df['direction_change'].shift(-1)"
   ]
  },
  {
   "cell_type": "code",
   "execution_count": 19,
   "metadata": {},
   "outputs": [
    {
     "name": "stderr",
     "output_type": "stream",
     "text": [
      "/tmp/ipykernel_4691/4075781168.py:4: SettingWithCopyWarning: \n",
      "A value is trying to be set on a copy of a slice from a DataFrame\n",
      "\n",
      "See the caveats in the documentation: https://pandas.pydata.org/pandas-docs/stable/user_guide/indexing.html#returning-a-view-versus-a-copy\n",
      "  df['acceleration'][mask_last_row_of_ship] = 0\n",
      "/tmp/ipykernel_4691/4075781168.py:5: SettingWithCopyWarning: \n",
      "A value is trying to be set on a copy of a slice from a DataFrame\n",
      "\n",
      "See the caveats in the documentation: https://pandas.pydata.org/pandas-docs/stable/user_guide/indexing.html#returning-a-view-versus-a-copy\n",
      "  df['direction_change'][mask_last_row_of_ship] = 0\n",
      "/tmp/ipykernel_4691/4075781168.py:7: SettingWithCopyWarning: \n",
      "A value is trying to be set on a copy of a slice from a DataFrame\n",
      "\n",
      "See the caveats in the documentation: https://pandas.pydata.org/pandas-docs/stable/user_guide/indexing.html#returning-a-view-versus-a-copy\n",
      "  df['acceleration'][mask_first_row_of_ship] = 0\n",
      "/tmp/ipykernel_4691/4075781168.py:8: SettingWithCopyWarning: \n",
      "A value is trying to be set on a copy of a slice from a DataFrame\n",
      "\n",
      "See the caveats in the documentation: https://pandas.pydata.org/pandas-docs/stable/user_guide/indexing.html#returning-a-view-versus-a-copy\n",
      "  df['direction_change'][mask_first_row_of_ship] = 0\n",
      "/tmp/ipykernel_4691/4075781168.py:9: SettingWithCopyWarning: \n",
      "A value is trying to be set on a copy of a slice from a DataFrame\n",
      "\n",
      "See the caveats in the documentation: https://pandas.pydata.org/pandas-docs/stable/user_guide/indexing.html#returning-a-view-versus-a-copy\n",
      "  df['speed_calculated'][mask_first_row_of_ship] = df['speed_calculated'].shift(1)\n",
      "/tmp/ipykernel_4691/4075781168.py:10: SettingWithCopyWarning: \n",
      "A value is trying to be set on a copy of a slice from a DataFrame\n",
      "\n",
      "See the caveats in the documentation: https://pandas.pydata.org/pandas-docs/stable/user_guide/indexing.html#returning-a-view-versus-a-copy\n",
      "  df['direction'][mask_first_row_of_ship] = df['direction'].shift(1)\n"
     ]
    }
   ],
   "source": [
    "# clean up first and last row in group\n",
    "mask_last_row_of_ship = df.mmsi != df.mmsi.shift(-1)\n",
    "# mask_time_gap = df.datetime != df.datetime.shift(1) - timedelta\n",
    "df['acceleration'][mask_last_row_of_ship] = 0\n",
    "df['direction_change'][mask_last_row_of_ship] = 0\n",
    "mask_first_row_of_ship = df.mmsi != df.mmsi.shift(1)\n",
    "df['acceleration'][mask_first_row_of_ship] = 0\n",
    "df['direction_change'][mask_first_row_of_ship] = 0\n",
    "df['speed_calculated'][mask_first_row_of_ship] = df['speed_calculated'].shift(1)\n",
    "df['direction'][mask_first_row_of_ship] = df['direction'].shift(1)"
   ]
  },
  {
   "cell_type": "code",
   "execution_count": 20,
   "metadata": {},
   "outputs": [],
   "source": [
    "# round actions to 2 decimals\n",
    "df['acceleration'] = df['acceleration'].round(2)\n",
    "df['direction_change'] = df['direction_change'].round(2)"
   ]
  },
  {
   "cell_type": "code",
   "execution_count": 21,
   "metadata": {},
   "outputs": [],
   "source": [
    "# replace nan with 0\n",
    "df['acceleration'] = df['acceleration'].fillna(0)\n",
    "df['direction_change'] = df['direction_change'].fillna(0)\n",
    "df['speed_calculated'] = df['speed_calculated'].fillna(0)\n",
    "df['direction'] = df['direction'].fillna(0)"
   ]
  },
  {
   "cell_type": "code",
   "execution_count": 22,
   "metadata": {},
   "outputs": [],
   "source": [
    "def move_around_the_clock(direction_change):\n",
    "    if abs(direction_change) > 180:\n",
    "        if direction_change > 0:\n",
    "            return direction_change - 360\n",
    "        else:\n",
    "            return direction_change + 360\n",
    "    else:\n",
    "        return direction_change\n",
    "\n",
    "df['direction_change'] = df['direction_change'].apply(move_around_the_clock)"
   ]
  },
  {
   "cell_type": "code",
   "execution_count": 23,
   "metadata": {},
   "outputs": [],
   "source": [
    "# reduce to important columns\n",
    "df = df[['mmsi', 'datetime', 'x', 'y', 'speed_calculated', 'acceleration', 'direction', 'direction_change']]"
   ]
  },
  {
   "cell_type": "code",
   "execution_count": 24,
   "metadata": {},
   "outputs": [
    {
     "data": {
      "text/html": [
       "<div>\n",
       "<style scoped>\n",
       "    .dataframe tbody tr th:only-of-type {\n",
       "        vertical-align: middle;\n",
       "    }\n",
       "\n",
       "    .dataframe tbody tr th {\n",
       "        vertical-align: top;\n",
       "    }\n",
       "\n",
       "    .dataframe thead th {\n",
       "        text-align: right;\n",
       "    }\n",
       "</style>\n",
       "<table border=\"1\" class=\"dataframe\">\n",
       "  <thead>\n",
       "    <tr style=\"text-align: right;\">\n",
       "      <th></th>\n",
       "      <th>mmsi</th>\n",
       "      <th>x</th>\n",
       "      <th>y</th>\n",
       "      <th>speed_calculated</th>\n",
       "      <th>acceleration</th>\n",
       "      <th>direction</th>\n",
       "      <th>direction_change</th>\n",
       "    </tr>\n",
       "  </thead>\n",
       "  <tbody>\n",
       "    <tr>\n",
       "      <th>count</th>\n",
       "      <td>8.938526e+06</td>\n",
       "      <td>8.938526e+06</td>\n",
       "      <td>8.938526e+06</td>\n",
       "      <td>8.938526e+06</td>\n",
       "      <td>8.938526e+06</td>\n",
       "      <td>8.938526e+06</td>\n",
       "      <td>8.938526e+06</td>\n",
       "    </tr>\n",
       "    <tr>\n",
       "      <th>mean</th>\n",
       "      <td>2.091088e+01</td>\n",
       "      <td>1.225220e+03</td>\n",
       "      <td>1.507512e+03</td>\n",
       "      <td>1.661834e-01</td>\n",
       "      <td>-1.562898e-06</td>\n",
       "      <td>1.973425e+02</td>\n",
       "      <td>-1.686750e-03</td>\n",
       "    </tr>\n",
       "    <tr>\n",
       "      <th>std</th>\n",
       "      <td>1.353347e+01</td>\n",
       "      <td>5.665176e+02</td>\n",
       "      <td>1.280748e+03</td>\n",
       "      <td>1.059489e+00</td>\n",
       "      <td>7.883400e-02</td>\n",
       "      <td>9.075348e+01</td>\n",
       "      <td>1.983926e+00</td>\n",
       "    </tr>\n",
       "    <tr>\n",
       "      <th>min</th>\n",
       "      <td>0.000000e+00</td>\n",
       "      <td>1.743219e+02</td>\n",
       "      <td>0.000000e+00</td>\n",
       "      <td>0.000000e+00</td>\n",
       "      <td>-2.176000e+01</td>\n",
       "      <td>0.000000e+00</td>\n",
       "      <td>-1.800000e+02</td>\n",
       "    </tr>\n",
       "    <tr>\n",
       "      <th>25%</th>\n",
       "      <td>1.000000e+01</td>\n",
       "      <td>6.464050e+02</td>\n",
       "      <td>2.269204e+01</td>\n",
       "      <td>3.534664e-04</td>\n",
       "      <td>0.000000e+00</td>\n",
       "      <td>1.021056e+02</td>\n",
       "      <td>0.000000e+00</td>\n",
       "    </tr>\n",
       "    <tr>\n",
       "      <th>50%</th>\n",
       "      <td>1.800000e+01</td>\n",
       "      <td>1.096915e+03</td>\n",
       "      <td>1.914492e+03</td>\n",
       "      <td>1.141156e-03</td>\n",
       "      <td>0.000000e+00</td>\n",
       "      <td>2.445388e+02</td>\n",
       "      <td>0.000000e+00</td>\n",
       "    </tr>\n",
       "    <tr>\n",
       "      <th>75%</th>\n",
       "      <td>3.100000e+01</td>\n",
       "      <td>1.646835e+03</td>\n",
       "      <td>2.697048e+03</td>\n",
       "      <td>2.524116e-03</td>\n",
       "      <td>0.000000e+00</td>\n",
       "      <td>2.701595e+02</td>\n",
       "      <td>0.000000e+00</td>\n",
       "    </tr>\n",
       "    <tr>\n",
       "      <th>max</th>\n",
       "      <td>5.400000e+01</td>\n",
       "      <td>2.825311e+03</td>\n",
       "      <td>3.018942e+03</td>\n",
       "      <td>2.234272e+03</td>\n",
       "      <td>2.638000e+01</td>\n",
       "      <td>3.598309e+02</td>\n",
       "      <td>1.800000e+02</td>\n",
       "    </tr>\n",
       "  </tbody>\n",
       "</table>\n",
       "</div>"
      ],
      "text/plain": [
       "               mmsi             x             y  speed_calculated  \\\n",
       "count  8.938526e+06  8.938526e+06  8.938526e+06      8.938526e+06   \n",
       "mean   2.091088e+01  1.225220e+03  1.507512e+03      1.661834e-01   \n",
       "std    1.353347e+01  5.665176e+02  1.280748e+03      1.059489e+00   \n",
       "min    0.000000e+00  1.743219e+02  0.000000e+00      0.000000e+00   \n",
       "25%    1.000000e+01  6.464050e+02  2.269204e+01      3.534664e-04   \n",
       "50%    1.800000e+01  1.096915e+03  1.914492e+03      1.141156e-03   \n",
       "75%    3.100000e+01  1.646835e+03  2.697048e+03      2.524116e-03   \n",
       "max    5.400000e+01  2.825311e+03  3.018942e+03      2.234272e+03   \n",
       "\n",
       "       acceleration     direction  direction_change  \n",
       "count  8.938526e+06  8.938526e+06      8.938526e+06  \n",
       "mean  -1.562898e-06  1.973425e+02     -1.686750e-03  \n",
       "std    7.883400e-02  9.075348e+01      1.983926e+00  \n",
       "min   -2.176000e+01  0.000000e+00     -1.800000e+02  \n",
       "25%    0.000000e+00  1.021056e+02      0.000000e+00  \n",
       "50%    0.000000e+00  2.445388e+02      0.000000e+00  \n",
       "75%    0.000000e+00  2.701595e+02      0.000000e+00  \n",
       "max    2.638000e+01  3.598309e+02      1.800000e+02  "
      ]
     },
     "execution_count": 24,
     "metadata": {},
     "output_type": "execute_result"
    }
   ],
   "source": [
    "df.describe()"
   ]
  },
  {
   "attachments": {},
   "cell_type": "markdown",
   "metadata": {},
   "source": [
    "# Load dataset from file"
   ]
  },
  {
   "cell_type": "code",
   "execution_count": 13,
   "metadata": {},
   "outputs": [],
   "source": [
    "# load df from pickle\n",
    "# DATASET_NAME = 'rev-moenk-22-04-01-12-00--04-02'\n",
    "df = pd.read_pickle('/workspace/data/' + DATASET_NAME + '/' + DATASET_NAME + '.pkl')"
   ]
  },
  {
   "cell_type": "code",
   "execution_count": 20,
   "metadata": {},
   "outputs": [
    {
     "data": {
      "text/html": [
       "<div>\n",
       "<style scoped>\n",
       "    .dataframe tbody tr th:only-of-type {\n",
       "        vertical-align: middle;\n",
       "    }\n",
       "\n",
       "    .dataframe tbody tr th {\n",
       "        vertical-align: top;\n",
       "    }\n",
       "\n",
       "    .dataframe thead th {\n",
       "        text-align: right;\n",
       "    }\n",
       "</style>\n",
       "<table border=\"1\" class=\"dataframe\">\n",
       "  <thead>\n",
       "    <tr style=\"text-align: right;\">\n",
       "      <th></th>\n",
       "      <th>mmsi</th>\n",
       "      <th>x</th>\n",
       "      <th>y</th>\n",
       "      <th>speed_calculated</th>\n",
       "      <th>acceleration</th>\n",
       "      <th>direction</th>\n",
       "      <th>direction_change</th>\n",
       "    </tr>\n",
       "  </thead>\n",
       "  <tbody>\n",
       "    <tr>\n",
       "      <th>count</th>\n",
       "      <td>336752.000000</td>\n",
       "      <td>336752.000000</td>\n",
       "      <td>336752.000000</td>\n",
       "      <td>336752.000000</td>\n",
       "      <td>336752.000000</td>\n",
       "      <td>336752.000000</td>\n",
       "      <td>336752.000000</td>\n",
       "    </tr>\n",
       "    <tr>\n",
       "      <th>mean</th>\n",
       "      <td>8.404880</td>\n",
       "      <td>1103.571907</td>\n",
       "      <td>1963.919546</td>\n",
       "      <td>0.505336</td>\n",
       "      <td>-0.000025</td>\n",
       "      <td>124.767297</td>\n",
       "      <td>-0.005581</td>\n",
       "    </tr>\n",
       "    <tr>\n",
       "      <th>std</th>\n",
       "      <td>4.251106</td>\n",
       "      <td>572.819880</td>\n",
       "      <td>895.166670</td>\n",
       "      <td>4.142172</td>\n",
       "      <td>0.137944</td>\n",
       "      <td>97.371806</td>\n",
       "      <td>3.592109</td>\n",
       "    </tr>\n",
       "    <tr>\n",
       "      <th>min</th>\n",
       "      <td>0.000000</td>\n",
       "      <td>220.656547</td>\n",
       "      <td>0.889559</td>\n",
       "      <td>0.000000</td>\n",
       "      <td>-9.490000</td>\n",
       "      <td>0.000000</td>\n",
       "      <td>-180.000000</td>\n",
       "    </tr>\n",
       "    <tr>\n",
       "      <th>25%</th>\n",
       "      <td>4.000000</td>\n",
       "      <td>588.917418</td>\n",
       "      <td>1544.958019</td>\n",
       "      <td>0.000645</td>\n",
       "      <td>0.000000</td>\n",
       "      <td>58.258131</td>\n",
       "      <td>0.000000</td>\n",
       "    </tr>\n",
       "    <tr>\n",
       "      <th>50%</th>\n",
       "      <td>9.000000</td>\n",
       "      <td>1055.428215</td>\n",
       "      <td>1915.264013</td>\n",
       "      <td>0.002156</td>\n",
       "      <td>0.000000</td>\n",
       "      <td>102.105629</td>\n",
       "      <td>0.000000</td>\n",
       "    </tr>\n",
       "    <tr>\n",
       "      <th>75%</th>\n",
       "      <td>10.000000</td>\n",
       "      <td>1420.884256</td>\n",
       "      <td>2745.888811</td>\n",
       "      <td>0.068079</td>\n",
       "      <td>0.000000</td>\n",
       "      <td>200.929766</td>\n",
       "      <td>0.000000</td>\n",
       "    </tr>\n",
       "    <tr>\n",
       "      <th>max</th>\n",
       "      <td>21.000000</td>\n",
       "      <td>2674.318469</td>\n",
       "      <td>3018.942258</td>\n",
       "      <td>1773.433517</td>\n",
       "      <td>9.660000</td>\n",
       "      <td>358.447282</td>\n",
       "      <td>180.000000</td>\n",
       "    </tr>\n",
       "  </tbody>\n",
       "</table>\n",
       "</div>"
      ],
      "text/plain": [
       "                mmsi              x              y  speed_calculated  \\\n",
       "count  336752.000000  336752.000000  336752.000000     336752.000000   \n",
       "mean        8.404880    1103.571907    1963.919546          0.505336   \n",
       "std         4.251106     572.819880     895.166670          4.142172   \n",
       "min         0.000000     220.656547       0.889559          0.000000   \n",
       "25%         4.000000     588.917418    1544.958019          0.000645   \n",
       "50%         9.000000    1055.428215    1915.264013          0.002156   \n",
       "75%        10.000000    1420.884256    2745.888811          0.068079   \n",
       "max        21.000000    2674.318469    3018.942258       1773.433517   \n",
       "\n",
       "        acceleration      direction  direction_change  \n",
       "count  336752.000000  336752.000000     336752.000000  \n",
       "mean       -0.000025     124.767297         -0.005581  \n",
       "std         0.137944      97.371806          3.592109  \n",
       "min        -9.490000       0.000000       -180.000000  \n",
       "25%         0.000000      58.258131          0.000000  \n",
       "50%         0.000000     102.105629          0.000000  \n",
       "75%         0.000000     200.929766          0.000000  \n",
       "max         9.660000     358.447282        180.000000  "
      ]
     },
     "execution_count": 20,
     "metadata": {},
     "output_type": "execute_result"
    }
   ],
   "source": [
    "df.describe()"
   ]
  },
  {
   "cell_type": "code",
   "execution_count": 21,
   "metadata": {},
   "outputs": [],
   "source": [
    "# save df to pickle\n",
    "df.to_pickle('/workspace/data/' + DATASET_NAME + '/' + DATASET_NAME + '.pkl')"
   ]
  },
  {
   "attachments": {},
   "cell_type": "markdown",
   "metadata": {},
   "source": [
    "### Generate neighborhood images"
   ]
  },
  {
   "cell_type": "code",
   "execution_count": 22,
   "metadata": {},
   "outputs": [
    {
     "name": "stdout",
     "output_type": "stream",
     "text": [
      "INFO: Pandarallel will run on 16 workers.\n",
      "INFO: Pandarallel will use standard multiprocessing data transfer (pipe) to transfer data between the main process and workers.\n"
     ]
    },
    {
     "name": "stderr",
     "output_type": "stream",
     "text": [
      "/root/.cache/pypoetry/virtualenvs/ppuu-ferrygym-xS3fZVNL-py3.8/lib/python3.8/site-packages/gym/spaces/box.py:128: UserWarning: \u001b[33mWARN: Box bound precision lowered by casting to float32\u001b[0m\n",
      "  logger.warn(f\"Box bound precision lowered by casting to {self.dtype}\")\n",
      "/root/.cache/pypoetry/virtualenvs/ppuu-ferrygym-xS3fZVNL-py3.8/lib/python3.8/site-packages/pandarallel/data_types/dataframe_groupby.py:18: FutureWarning: In a future version of pandas, a length 1 tuple will be returned when iterating over a groupby with a grouper equal to a list of length 1. Don't supply a list with a single grouper to avoid this warning.\n",
      "  iterator = iter(dataframe_groupby)\n"
     ]
    },
    {
     "data": {
      "application/vnd.jupyter.widget-view+json": {
       "model_id": "eedf7fec09984259bdff5b1baebae691",
       "version_major": 2,
       "version_minor": 0
      },
      "text/plain": [
       "VBox(children=(HBox(children=(IntProgress(value=0, description='0.00%', max=5400), Label(value='0 / 5400'))), …"
      ]
     },
     "metadata": {},
     "output_type": "display_data"
    }
   ],
   "source": [
    "from pandarallel import pandarallel\n",
    "\n",
    "import os,shutil\n",
    "\n",
    "if os.path.isdir(\"/tmp\") : \n",
    "    os.system('rm -R /tmp/*')\n",
    "\n",
    "os.environ['JOBLIB_TEMP_FOLDER'] = '/tmp'\n",
    "\n",
    "pandarallel.initialize(nb_workers = 16, use_memory_fs = False , progress_bar=True,verbose=2 ) \n",
    "\n",
    "kwargs = dict(\n",
    "    generate_training_data=True,\n",
    "    data_directory='/workspace/data/rev-moenk/training/',\n",
    "    df_filename='2022-04-10-13->14.pkl',\n",
    ")\n",
    "\n",
    "env = FerryGymEnv.FerryGymEnv(**kwargs)\n",
    "\n",
    "\n",
    "def generate_images_for_group(group):\n",
    "    ships = []\n",
    "    for index, row in group.iterrows():\n",
    "        ship = Ship.Ship((row['x'], row['y']), row['direction'], 1, row['mmsi'])\n",
    "        ships.append(ship)\n",
    "    for index, row in group.iterrows():\n",
    "        agent = Ship.Ship((row['x'], row['y']), row['direction'], 1, row['mmsi'])\n",
    "        neighborhood = env.render_neighborhood(agent, ships)\n",
    "        # np save image in image directory\n",
    "        filedir = row['datetime'].strftime('%Y-%m-%d') + '/' + row['datetime'].strftime('%H-%M') + '/' + row['datetime'].strftime('%S')+ '/' \n",
    "        # create directory if not exists\n",
    "        if not os.path.exists('../data/' + DATASET_NAME + '/images/' + filedir):\n",
    "            os.makedirs('../data/' + DATASET_NAME + '/images/' + filedir)\n",
    "        filename = filedir + str(row['mmsi']) +  '.npy' \n",
    "        np.save('../data/' + DATASET_NAME + '/images/' + filename, neighborhood)\n",
    "        # add filename to df\n",
    "        group.at[index, 'filename'] = filename\n",
    "    return group\n",
    "        \n",
    "\n",
    "\n",
    "df_neighborhood = df.groupby(['datetime']).parallel_apply(generate_images_for_group)"
   ]
  },
  {
   "cell_type": "code",
   "execution_count": 23,
   "metadata": {},
   "outputs": [],
   "source": [
    "# remove datetime from index\n",
    "df_neighborhood.reset_index(inplace=True, drop=True)"
   ]
  },
  {
   "cell_type": "code",
   "execution_count": 24,
   "metadata": {},
   "outputs": [
    {
     "name": "stdout",
     "output_type": "stream",
     "text": [
      "Saving df to pickle file\n"
     ]
    }
   ],
   "source": [
    "# save df to pickle file\n",
    "print('Saving df to pickle file')\n",
    "df_neighborhood.to_pickle('../data/' + DATASET_NAME + '/' + DATASET_NAME + '.pkl')"
   ]
  },
  {
   "attachments": {},
   "cell_type": "markdown",
   "metadata": {},
   "source": [
    "### Visualize data"
   ]
  },
  {
   "cell_type": "code",
   "execution_count": 26,
   "metadata": {},
   "outputs": [],
   "source": [
    "df_grouped = df.groupby(['mmsi'])"
   ]
  },
  {
   "cell_type": "code",
   "execution_count": 27,
   "metadata": {},
   "outputs": [],
   "source": [
    "groups = pd.concat( [ df_grouped.get_group(group) for i,group in enumerate( df_grouped.groups) if i < 1000 ] ).groupby('datetime')\n"
   ]
  },
  {
   "cell_type": "code",
   "execution_count": 28,
   "metadata": {},
   "outputs": [
    {
     "data": {
      "text/html": [
       "<div>\n",
       "<style scoped>\n",
       "    .dataframe tbody tr th:only-of-type {\n",
       "        vertical-align: middle;\n",
       "    }\n",
       "\n",
       "    .dataframe tbody tr th {\n",
       "        vertical-align: top;\n",
       "    }\n",
       "\n",
       "    .dataframe thead th {\n",
       "        text-align: right;\n",
       "    }\n",
       "</style>\n",
       "<table border=\"1\" class=\"dataframe\">\n",
       "  <thead>\n",
       "    <tr style=\"text-align: right;\">\n",
       "      <th></th>\n",
       "      <th>mmsi</th>\n",
       "      <th>datetime</th>\n",
       "      <th>x</th>\n",
       "      <th>y</th>\n",
       "      <th>speed_calculated</th>\n",
       "      <th>acceleration</th>\n",
       "      <th>direction</th>\n",
       "      <th>direction_change</th>\n",
       "      <th>filename</th>\n",
       "    </tr>\n",
       "    <tr>\n",
       "      <th>index</th>\n",
       "      <th></th>\n",
       "      <th></th>\n",
       "      <th></th>\n",
       "      <th></th>\n",
       "      <th></th>\n",
       "      <th></th>\n",
       "      <th></th>\n",
       "      <th></th>\n",
       "      <th></th>\n",
       "    </tr>\n",
       "  </thead>\n",
       "  <tbody>\n",
       "    <tr>\n",
       "      <th>8415</th>\n",
       "      <td>4</td>\n",
       "      <td>2022-04-01 12:07:22+00:00</td>\n",
       "      <td>774.700280</td>\n",
       "      <td>2170.080188</td>\n",
       "      <td>0.011394</td>\n",
       "      <td>0.0</td>\n",
       "      <td>270.000000</td>\n",
       "      <td>0.0</td>\n",
       "      <td>nbi_2022-04-01 12:07:23_211223120.0.npy</td>\n",
       "    </tr>\n",
       "    <tr>\n",
       "      <th>166985</th>\n",
       "      <td>9</td>\n",
       "      <td>2022-04-01 12:07:22+00:00</td>\n",
       "      <td>1054.774153</td>\n",
       "      <td>1543.532359</td>\n",
       "      <td>0.023071</td>\n",
       "      <td>-0.0</td>\n",
       "      <td>140.456096</td>\n",
       "      <td>0.0</td>\n",
       "      <td>nbi_2022-04-01 12:07:23_211391280.0.npy</td>\n",
       "    </tr>\n",
       "    <tr>\n",
       "      <th>239202</th>\n",
       "      <td>10</td>\n",
       "      <td>2022-04-01 12:07:22+00:00</td>\n",
       "      <td>684.798014</td>\n",
       "      <td>2618.280701</td>\n",
       "      <td>0.261782</td>\n",
       "      <td>-0.0</td>\n",
       "      <td>90.683641</td>\n",
       "      <td>-0.0</td>\n",
       "      <td>nbi_2022-04-01 12:07:23_211399920.0.npy</td>\n",
       "    </tr>\n",
       "    <tr>\n",
       "      <th>268304</th>\n",
       "      <td>11</td>\n",
       "      <td>2022-04-01 12:07:22+00:00</td>\n",
       "      <td>749.598732</td>\n",
       "      <td>2217.044832</td>\n",
       "      <td>0.007256</td>\n",
       "      <td>-0.0</td>\n",
       "      <td>7.659794</td>\n",
       "      <td>-0.0</td>\n",
       "      <td>nbi_2022-04-01 12:07:23_211458210.0.npy</td>\n",
       "    </tr>\n",
       "    <tr>\n",
       "      <th>279549</th>\n",
       "      <td>12</td>\n",
       "      <td>2022-04-01 12:07:22+00:00</td>\n",
       "      <td>883.063876</td>\n",
       "      <td>1911.746665</td>\n",
       "      <td>0.007760</td>\n",
       "      <td>0.0</td>\n",
       "      <td>288.940924</td>\n",
       "      <td>0.0</td>\n",
       "      <td>nbi_2022-04-01 12:07:23_211629870.0.npy</td>\n",
       "    </tr>\n",
       "    <tr>\n",
       "      <th>313823</th>\n",
       "      <td>16</td>\n",
       "      <td>2022-04-01 12:07:22+00:00</td>\n",
       "      <td>1026.490369</td>\n",
       "      <td>2446.232789</td>\n",
       "      <td>4.499273</td>\n",
       "      <td>-0.0</td>\n",
       "      <td>39.326476</td>\n",
       "      <td>0.0</td>\n",
       "      <td>nbi_2022-04-01 12:07:23_257182000.0.npy</td>\n",
       "    </tr>\n",
       "  </tbody>\n",
       "</table>\n",
       "</div>"
      ],
      "text/plain": [
       "        mmsi                  datetime            x            y  \\\n",
       "index                                                              \n",
       "8415       4 2022-04-01 12:07:22+00:00   774.700280  2170.080188   \n",
       "166985     9 2022-04-01 12:07:22+00:00  1054.774153  1543.532359   \n",
       "239202    10 2022-04-01 12:07:22+00:00   684.798014  2618.280701   \n",
       "268304    11 2022-04-01 12:07:22+00:00   749.598732  2217.044832   \n",
       "279549    12 2022-04-01 12:07:22+00:00   883.063876  1911.746665   \n",
       "313823    16 2022-04-01 12:07:22+00:00  1026.490369  2446.232789   \n",
       "\n",
       "        speed_calculated  acceleration   direction  direction_change  \\\n",
       "index                                                                  \n",
       "8415            0.011394           0.0  270.000000               0.0   \n",
       "166985          0.023071          -0.0  140.456096               0.0   \n",
       "239202          0.261782          -0.0   90.683641              -0.0   \n",
       "268304          0.007256          -0.0    7.659794              -0.0   \n",
       "279549          0.007760           0.0  288.940924               0.0   \n",
       "313823          4.499273          -0.0   39.326476               0.0   \n",
       "\n",
       "                                       filename  \n",
       "index                                            \n",
       "8415    nbi_2022-04-01 12:07:23_211223120.0.npy  \n",
       "166985  nbi_2022-04-01 12:07:23_211391280.0.npy  \n",
       "239202  nbi_2022-04-01 12:07:23_211399920.0.npy  \n",
       "268304  nbi_2022-04-01 12:07:23_211458210.0.npy  \n",
       "279549  nbi_2022-04-01 12:07:23_211629870.0.npy  \n",
       "313823  nbi_2022-04-01 12:07:23_257182000.0.npy  "
      ]
     },
     "execution_count": 28,
     "metadata": {},
     "output_type": "execute_result"
    }
   ],
   "source": [
    "group = groups.get_group('2022-04-01 12:07:22+00:00')\n",
    "group"
   ]
  },
  {
   "cell_type": "code",
   "execution_count": 31,
   "metadata": {},
   "outputs": [
    {
     "data": {
      "text/plain": [
       "<matplotlib.image.AxesImage at 0x7f375aa22ac0>"
      ]
     },
     "execution_count": 31,
     "metadata": {},
     "output_type": "execute_result"
    },
    {
     "data": {
      "image/png": "[encoded data removed]",
      "text/plain": [
       "<Figure size 640x480 with 1 Axes>"
      ]
     },
     "metadata": {},
     "output_type": "display_data"
    }
   ],
   "source": [
    "import matplotlib.pyplot as plt\n",
    "# create ship object for every row in group\n",
    "\n",
    "ships = []\n",
    "for index, row in group.iterrows():\n",
    "    ship = Ship.Ship((row['x'], row['y']), row['direction'], 1, row['mmsi'])\n",
    "    ships.append(ship)\n",
    "\n",
    "first_row = group.iloc[0]\n",
    "agent = Ship.Ship((first_row['x'], first_row['y']), first_row['direction'], 1, first_row['mmsi'])\n",
    "# render neighborhood\n",
    "neighborhood = env.render_neighborhood(agent, ships)\n",
    "# plot neighborhood\n",
    "plt.imshow(neighborhood)"
   ]
  }
 ],
 "metadata": {
  "kernelspec": {
   "display_name": "Python 3.9.12 ('workspace-dqq3IVyd')",
   "language": "python",
   "name": "python3"
  },
  "language_info": {
   "codemirror_mode": {
    "name": "ipython",
    "version": 3
   },
   "file_extension": ".py",
   "mimetype": "text/x-python",
   "name": "python",
   "nbconvert_exporter": "python",
   "pygments_lexer": "ipython3",
   "version": "3.8.8"
  },
  "orig_nbformat": 4,
  "vscode": {
   "interpreter": {
    "hash": "98bff4cb4aa4b884ece67f7e2958abe4a1b89abafae564f12c809048d10f21d8"
   }
  }
 },
 "nbformat": 4,
 "nbformat_minor": 2
}
